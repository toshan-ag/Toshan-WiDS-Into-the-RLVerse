{
 "cells": [
  {
   "cell_type": "markdown",
   "metadata": {},
   "source": [
    "# Tic-Tac-Toe Simulation\n",
    "In this assignment you have to construct a python class \"TicTacToe\" which simulates the game of Tic-Tac-Toe, this will further be used as an enviroment to solve for you in next week.\n",
    "\n",
    "You may add arguments to given functions as per your need and also additional helper functions (whose name should start with \"_\", convention for private functions), but only the initially given functions can be called by any user. No additional imports are allowed. The game always starts with X's turn."
   ]
  },
  {
   "cell_type": "code",
   "execution_count": 9,
   "metadata": {},
   "outputs": [],
   "source": [
    "class TicTacToe:\n",
    "    def __init__(self):\n",
    "        self.board = [[' ',' ',' '],\n",
    "                      [' ',' ',' '],\n",
    "                      [' ',' ',' ']]\n",
    "        self.player = 'X'\n",
    "        self.winner = ''\n",
    "        self.game_complete = False\n",
    "    def act(self,row,col):\n",
    "        if self.game_complete==False and self.board[row][col] ==' ':\n",
    "            self.board[row][col] =self.player\n",
    "            self._winnercheck()\n",
    "            self._drawcheck()\n",
    "            if self.player=='X':\n",
    "                self.player='O'\n",
    "            elif self.player=='O':\n",
    "                self.player='X'\n",
    "            print('Move Succesful')\n",
    "            return True\n",
    "        else:\n",
    "            print('Invalid Move!')\n",
    "            return False\n",
    "    def reset(self):\n",
    "        self.board = [[' ',' ',' '],\n",
    "                      [' ',' ',' '],\n",
    "                      [' ',' ',' ']]\n",
    "        self.player = 'X'\n",
    "        self.winner = ''\n",
    "        self.game_complete = False\n",
    "    def _winnercheck(self):\n",
    "        for i in range(3):\n",
    "            if self.board[i][0] == self.board[1][0] and self.board[1][0]==self.board[2][0] and self.board[0][0]!=' ':\n",
    "                self.game_complete=True\n",
    "                self.winner=self.player\n",
    "                return\n",
    "        if self.board[0][0] == self.board [1][1] and self.board[1][1]==self.board[2][2] and self.board[0][0]!=' ':\n",
    "            self.game_complete=True\n",
    "            self.winner=self.player\n",
    "            return\n",
    "    def _drawcheck(self):\n",
    "        if self._winnercheck()==False and self.game_complete==False:\n",
    "            self.game_complete=True\n",
    "            self.winner= 'Game ended in a Draw!'"
   ]
  },
  {
   "cell_type": "code",
   "execution_count": null,
   "metadata": {},
   "outputs": [],
   "source": [
    "    "
   ]
  }
 ],
 "metadata": {
  "kernelspec": {
   "display_name": "Python 3",
   "language": "python",
   "name": "python3"
  },
  "language_info": {
   "codemirror_mode": {
    "name": "ipython",
    "version": 3
   },
   "file_extension": ".py",
   "mimetype": "text/x-python",
   "name": "python",
   "nbconvert_exporter": "python",
   "pygments_lexer": "ipython3",
   "version": "3.8.3"
  }
 },
 "nbformat": 4,
 "nbformat_minor": 2
}
