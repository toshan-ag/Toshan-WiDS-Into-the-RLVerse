{
 "cells": [
  {
   "cell_type": "code",
   "execution_count": null,
   "metadata": {},
   "outputs": [],
   "source": [
    "\n",
    "import torch\n",
    "# The autograd package provides automatic differentiation \n",
    "# for all operations on Tensors\n",
    "\n",
    "# requires_grad = True -> tracks all operations on the tensor. \n",
    "x = torch.randn(3, requires_grad=True)\n",
    "y = x + 2\n",
    "\n",
    "# y was created as a result of an operation, so it has a grad_fn attribute.\n",
    "# grad_fn: references a Function that has created the Tensor\n",
    "print(x) # created by the user -> grad_fn is None\n",
    "print(y)\n",
    "print(y.grad_fn)\n",
    "\n",
    "# Do more operations on y\n",
    "z = y * y * 3\n",
    "print(z)\n",
    "z = z.mean()\n",
    "print(z)\n",
    "\n",
    "# Let's compute the gradients with backpropagation\n",
    "# When we finish our computation we can call .backward() and have all the gradients computed automatically.\n",
    "# The gradient for this tensor will be accumulated into .grad attribute.\n",
    "# It is the partial derivate of the function w.r.t. the tensor\n",
    "\n",
    "z.backward()\n",
    "print(x.grad) # dz/dx\n",
    "\n",
    "# Generally speaking, torch.autograd is an engine for computing vector-Jacobian product\n",
    "# It computes partial derivates while applying the chain rule\n",
    "\n",
    "# -------------\n",
    "# Model with non-scalar output:\n",
    "# If a Tensor is non-scalar (more than 1 elements), we need to specify arguments for backward() \n",
    "# specify a gradient argument that is a tensor of matching shape.\n",
    "# needed for vector-Jacobian product\n",
    "\n",
    "x = torch.randn(3, requires_grad=True)\n",
    "\n",
    "y = x * 2\n",
    "for _ in range(10):\n",
    "    y = y * 2\n",
    "\n",
    "print(y)\n",
    "print(y.shape)\n",
    "\n",
    "v = torch.tensor([0.1, 1.0, 0.0001], dtype=torch.float32)\n",
    "y.backward(v)\n",
    "print(x.grad)\n",
    "\n",
    "# -------------\n",
    "# Stop a tensor from tracking history:\n",
    "# For example during our training loop when we want to update our weights\n",
    "# then this update operation should not be part of the gradient computation\n",
    "# - x.requires_grad_(False)\n",
    "# - x.detach()\n",
    "# - wrap in 'with torch.no_grad():'\n",
    "\n",
    "# .requires_grad_(...) changes an existing flag in-place.\n",
    "a = torch.randn(2, 2)\n",
    "print(a.requires_grad)\n",
    "b = ((a * 3) / (a - 1))\n",
    "print(b.grad_fn)\n",
    "a.requires_grad_(True)\n",
    "print(a.requires_grad)\n",
    "b = (a * a).sum()\n",
    "print(b.grad_fn)\n",
    "\n",
    "# .detach(): get a new Tensor with the same content but no gradient computation:\n",
    "a = torch.randn(2, 2, requires_grad=True)\n",
    "print(a.requires_grad)\n",
    "b = a.detach()\n",
    "print(b.requires_grad)\n",
    "\n",
    "# wrap in 'with torch.no_grad():'\n",
    "a = torch.randn(2, 2, requires_grad=True)\n",
    "print(a.requires_grad)\n",
    "with torch.no_grad():\n",
    "    print((x ** 2).requires_grad)\n",
    "\n",
    "# -------------\n",
    "# backward() accumulates the gradient for this tensor into .grad attribute.\n",
    "# !!! We need to be careful during optimization !!!\n",
    "# Use .zero_() to empty the gradients before a new optimization step!\n",
    "weights = torch.ones(4, requires_grad=True)\n",
    "\n",
    "for epoch in range(3):\n",
    "    # just a dummy example\n",
    "    model_output = (weights*3).sum()\n",
    "    model_output.backward()\n",
    "    \n",
    "    print(weights.grad)\n",
    "\n",
    "    # optimize model, i.e. adjust weights...\n",
    "    with torch.no_grad():\n",
    "        weights -= 0.1 * weights.grad\n",
    "\n",
    "    # this is important! It affects the final weights & output\n",
    "    weights.grad.zero_()\n",
    "\n",
    "print(weights)\n",
    "print(model_output)\n",
    "\n",
    "# Optimizer has zero_grad() method\n",
    "# optimizer = torch.optim.SGD([weights], lr=0.1)\n",
    "# During training:\n",
    "# optimizer.step()\n",
    "# optimizer.zero_grad()"
   ]
  },
  {
   "cell_type": "code",
   "execution_count": 1,
   "metadata": {},
   "outputs": [],
   "source": [
    "#autograd package of pytorch helps in calcualting gradients\n",
    "#Gradients are important for all model optimizations"
   ]
  },
  {
   "cell_type": "code",
   "execution_count": 2,
   "metadata": {},
   "outputs": [],
   "source": [
    "import torch"
   ]
  },
  {
   "cell_type": "code",
   "execution_count": 15,
   "metadata": {},
   "outputs": [
    {
     "name": "stdout",
     "output_type": "stream",
     "text": [
      "tensor([-0.8984,  1.3736,  0.3578], requires_grad=True)\n",
      "tensor([1.1016, 3.3736, 2.3578], grad_fn=<AddBackward0>)\n",
      "tensor(2.2777, grad_fn=<MeanBackward0>)\n",
      "tensor([0.3333, 0.3333, 0.3333])\n",
      "tensor([1.3333, 2.8333, 6.3333])\n"
     ]
    }
   ],
   "source": [
    "#torch.rand generates random values from a uniform distribution in the range [0, 1)\n",
    "#torch.randn generates random values from a standard normal distribution (Gaussian distribution with mean 0 and standard deviation 1)\n",
    "\n",
    "x = torch.randn(3, requires_grad=True) #If False, then there is an error\n",
    "print(x)\n",
    "\n",
    "y = x+2\n",
    "print(y) # y has an attribute called grad_fn which here is Addbackward because we did y = x+2. Backward because it uses backpropagation\n",
    "\n",
    "z=y.mean()\n",
    "print(z)\n",
    "\n",
    "z.backward() #This is dz/dx. For scalars(here, z) we can directly do z.backward\n",
    "\n",
    "print(x.grad) #Access the gradient\n",
    "\n",
    "v= torch.tensor([1.0,2.5,6.0])\n",
    "y.backward(v) #this is also dy/dx but since y is a vector, we have to specify a vector of same size as parameter for backward\n",
    "print(x.grad)"
   ]
  },
  {
   "cell_type": "code",
   "execution_count": 20,
   "metadata": {},
   "outputs": [
    {
     "name": "stdout",
     "output_type": "stream",
     "text": [
      "tensor([1.1016, 3.3736, 2.3578])\n"
     ]
    }
   ],
   "source": [
    "#To stop autofrad from tracking gradients, we can do it in the following ways\n",
    "\n",
    "#Method 1\n",
    "#x.requires_grad_(True)\n",
    "#print(x)\n",
    "\n",
    "#Method 2\n",
    "#y=x.detach()\n",
    "#print(y)\n",
    "\n",
    "#Method 3\n",
    "with torch.no_grad():\n",
    "    y = x+2\n",
    "    print(y)\n",
    "#clearly, y does not have requires_grad"
   ]
  },
  {
   "cell_type": "code",
   "execution_count": 25,
   "metadata": {},
   "outputs": [
    {
     "name": "stdout",
     "output_type": "stream",
     "text": [
      "tensor([0.7500, 0.7500, 0.7500, 0.7500])\n",
      "tensor([1.5000, 1.5000, 1.5000, 1.5000])\n",
      "tensor([2.2500, 2.2500, 2.2500, 2.2500])\n",
      "\n",
      "\n",
      "tensor([0.7500, 0.7500, 0.7500, 0.7500])\n",
      "tensor([0.7500, 0.7500, 0.7500, 0.7500])\n",
      "tensor([0.7500, 0.7500, 0.7500, 0.7500])\n"
     ]
    }
   ],
   "source": [
    "#Training Example\n",
    "weights = torch.ones(4, requires_grad=True)\n",
    "\n",
    "for epoch in range(3):\n",
    "    model_output = (weights*3).mean()\n",
    "    model_output.backward()\n",
    "\n",
    "    print(weights.grad)\n",
    "\n",
    "\n",
    "#Clearly, the grads are getting summed up after every iteration. This is wrong because obviously, grad must be same in all iterations as\n",
    "#weights and model_output are same. So, do as follows:\n",
    "\n",
    "print(\"\\n\")\n",
    "\n",
    "weights = torch.ones(4, requires_grad=True)\n",
    "for epoch in range(3):\n",
    "    model_output = (weights*3).mean()\n",
    "    model_output.backward()\n",
    "\n",
    "    print(weights.grad)\n",
    "\n",
    "    weights.grad.zero_()"
   ]
  },
  {
   "cell_type": "code",
   "execution_count": 28,
   "metadata": {},
   "outputs": [
    {
     "name": "stdout",
     "output_type": "stream",
     "text": [
      "tensor(1., grad_fn=<PowBackward0>)\n",
      "tensor(-2.)\n"
     ]
    }
   ],
   "source": [
    "#Linear Regression example\n",
    "x=torch.tensor(1.0)\n",
    "y=torch.tensor(2.0)\n",
    "\n",
    "w=torch.tensor(1.0, requires_grad=True)\n",
    "\n",
    "# forward pass\n",
    "y_cap = w * x\n",
    "\n",
    "loss = (y_cap - y)**2\n",
    "\n",
    "print(loss)\n",
    "\n",
    "#backward pass\n",
    "\n",
    "loss.backward()\n",
    "print(w.grad)"
   ]
  }
 ],
 "metadata": {
  "kernelspec": {
   "display_name": "Python 3",
   "language": "python",
   "name": "python3"
  },
  "language_info": {
   "codemirror_mode": {
    "name": "ipython",
    "version": 3
   },
   "file_extension": ".py",
   "mimetype": "text/x-python",
   "name": "python",
   "nbconvert_exporter": "python",
   "pygments_lexer": "ipython3",
   "version": "3.8.3"
  }
 },
 "nbformat": 4,
 "nbformat_minor": 2
}
