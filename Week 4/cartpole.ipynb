{
 "cells": [
  {
   "cell_type": "markdown",
   "metadata": {},
   "source": [
    "## Solving CartPole with DQNs\n",
    "In this assignment you will make an RL agent capable of achieving 150+ average reward in the CartPole environment"
   ]
  },
  {
   "cell_type": "code",
   "execution_count": null,
   "metadata": {},
   "outputs": [],
   "source": [
    "# Make all necessary imports here\n",
    "import torch\n",
    "import torch.nn as nn\n",
    "import torch.optim as optim\n",
    "from torch.utils.data import DataLoader, Dataset\n",
    "from model import DQN, CustomDataset\n",
    "import gym\n",
    "import matplotlib.pyplot as plt\n",
    "import numpy as np\n",
    "import imageio\n",
    "from tqdm import tqdm"
   ]
  },
  {
   "cell_type": "markdown",
   "metadata": {},
   "source": [
    "Regarding the CartPoleAgent class:\n",
    "- The constructor (\\_\\___init__\\_\\_) should initialize __gamma__ and __epsilon__ as class variables. It initializes online network, saves it and loads it again in target network (We do this so that both our target and online network are same during initialization)\n",
    "- The __choose_action()__ function should take the __Q(s, a)__ values vector for a state s as input, for example if __Q_s__ is the given input, __Q_s[0]__ represents __Q(s, 0)__, __Q_s[1]__ represents __Q(s, 1)__ and so on, and the function should output the chosen action (an integer) according to the current exploration strategy (For example choose random action with probability ε and choose action with highest Q(s, a) value with probability 1-ε)\n",
    "- The __train()__ function runs for a specific number of loops, in each loop:\n",
    "    - It generates training data using __generate_training_data()__ function and passes it to train_instance function of the online network (which trains the online network)\n",
    "    - It then saves the online network and loads that same saved function as target network\n",
    "    - Calls the __evaluate_performace()__ function\n",
    "    - Updates the value of epsilon as required\n",
    "- The __generate_training_data()__ function:\n",
    "    - Simulates lots of episodes/games/trajectories, it uses the online network for chossing actions, and the target netowrk for determining targets, it then stores all such states in an list/array/tensor and corresponding labels (i.e. targets) in another list/array/tensor.\n",
    "    - It then makes a __CustomDataset__ variable with these state and labels and returns it\n",
    "    - The CartPole environment terminates after 500 steps truncates itself after 500 steps in a single episode, you have to check this yourself and terminate the episode if it's length becomes >= 500\n",
    "    - The number of data and targets in the dataset returned should be large enough (around 5000-10000), so that when we choose any random datapoints, they satisy the iid condition\n",
    "- The __evaluate_performance()__ function calculates the average achieved reward with the current online network by simulating atleast 5 episodes (without any exploration as we are just calculating average reward), it then prints the average reward\n",
    "\n",
    "Generally you should see a rising trend in your average obtained reward\n",
    "\n",
    "Now some recommendations:\n",
    "- You need a good exploratory strategy, exponentially decaying exploration is prefered, you can start with ε=0.5 and then divide it by a constant after each training loop, so that it finally reaches a value of ε = 0.01\n",
    "- Whenever you use forward function of the DQN class in __generate_training_data()__ or __evaluate()__, make sure to detach the tensor so that it does not calculate gradients. You can detach any tensor \"__a__\" like:\n",
    "```\n",
    "    a = a.detach()\n",
    "```\n",
    "- 0.99 is a good value for Gamma\n",
    "\n",
    "Some more things you can do (Optional):\n",
    "- You can load an already saved PyTorch model with name \"model.pth\" into any variable network as follows:\n",
    "```\n",
    "    network = torch.load(\"model.pth)\n",
    "```\n",
    "- In the __evaluate()__ function, you can use __imageio__ library to make gifs of your agent playing the game (Google How!), but you have to initialize your environment as:\n",
    "```\n",
    "    env = gym.make(\"CartPole-v1\", render_mode=\"rgb_array\")\n",
    "```\n",
    "- In the __evaluate()__ function, you can calculate the Mean-Square Error of the model and store these values for each iterations and finally plot it to get an idea of how is your training going."
   ]
  },
  {
   "cell_type": "code",
   "execution_count": null,
   "metadata": {},
   "outputs": [],
   "source": [
    "class CartPoleAgent:\n",
    "    def __init__(self, epsilon=0.5, gamma = 0.99) -> None:\n",
    "        self.epsilon = epsilon\n",
    "        self.gamma = gamma\n",
    "        self.online_network = DQN()\n",
    "        torch.save(self.online_network.state_dict(), 'model.pth')\n",
    "        self.target_network = DQN()\n",
    "        self.target_network.load_state_dict(torch.load('model.pth'))\n",
    "    def choose_action(self, Q_s) -> int:\n",
    "        if np.random.rand() < self.epsilon:\n",
    "            return np.random.choice(len(Q_s))\n",
    "        else:\n",
    "            return np.argmax(Q_s)\n",
    "    def generate_training_data(self) -> CustomDataset:\n",
    "        self.env = gym.make(\"CartPole-v1\")\n",
    "        states = []\n",
    "        labels = []\n",
    "\n",
    "        for i in range(5000):\n",
    "            state = self.env.reset()[0]\n",
    "            for _ in range(500):\n",
    "                state_tensor = torch.tensor(state,dtype=torch.float32)\n",
    "                Q_values = self.online_network.forward(state_tensor).detach().numpy()\n",
    "\n",
    "                action = self.choose_action(Q_values)\n",
    "\n",
    "                next_state, reward, terminated, truncated, _ = self.env.step(action)\n",
    "                next_state_tensor = torch.tensor(next_state,dtype=torch.float32)\n",
    "\n",
    "                target = reward + self.gamma * np.max(self.target_network.forward(next_state_tensor).detach().numpy())\n",
    "                states.append(state)\n",
    "                labels.append(target)\n",
    "\n",
    "                state = next_state\n",
    "\n",
    "                if truncated or terminated:\n",
    "                    break\n",
    "            self.env.close()\n",
    "        train_data = CustomDataset(np.array(states).astype(float), np.array(labels).astype(float))\n",
    "        return train_data\n",
    "\n",
    "    def train_agent(self):\n",
    "        for i in range(500):\n",
    "            train_data = self.generate_training_data()\n",
    "            self.online_network.train_instance(train_data)\n",
    "            torch.save(self.online_network.state_dict(), 'model.pth')\n",
    "            self.target_network.load_state_dict(torch.load('model.pth'))\n",
    "            self.evaluate_performance(i)\n",
    "            self.epsilon = self.epsilon * 0.992\n",
    "\n",
    "    def evaluate_performance(self, iter) -> None:\n",
    "        rewards_avg=[]\n",
    "        for i in range(5):\n",
    "            state = self.env.reset()[0]\n",
    "            rewards = 0\n",
    "            for _ in range(500):\n",
    "                state_tensor = torch.tensor(state,dtype=torch.float32)\n",
    "                Q_values = self.online_network.forward(state_tensor).detach().numpy()\n",
    "\n",
    "                action = self.choose_action(Q_values)\n",
    "\n",
    "                next_state, reward, terminated, truncated, info = self.env.step(action)\n",
    "\n",
    "                state = next_state\n",
    "                rewards+=reward\n",
    "                if truncated or terminated:\n",
    "                    break\n",
    "            self.env.close()\n",
    "            rewards_avg.append(rewards)\n",
    "        print('Iteration',iter,'Reward:',sum(rewards_avg)/len(rewards_avg))"
   ]
  },
  {
   "cell_type": "markdown",
   "metadata": {},
   "source": [
    "You should run the below cell to start training"
   ]
  },
  {
   "cell_type": "code",
   "execution_count": null,
   "metadata": {},
   "outputs": [],
   "source": [
    "# This cell should not be changed\n",
    "Agent = CartPoleAgent()\n",
    "Agent.train_agent()"
   ]
  }
 ],
 "metadata": {
  "kernelspec": {
   "display_name": "Python 3",
   "language": "python",
   "name": "python3"
  },
  "language_info": {
   "codemirror_mode": {
    "name": "ipython",
    "version": 3
   },
   "file_extension": ".py",
   "mimetype": "text/x-python",
   "name": "python",
   "nbconvert_exporter": "python",
   "pygments_lexer": "ipython3",
   "version": "3.8.3"
  }
 },
 "nbformat": 4,
 "nbformat_minor": 2
}
