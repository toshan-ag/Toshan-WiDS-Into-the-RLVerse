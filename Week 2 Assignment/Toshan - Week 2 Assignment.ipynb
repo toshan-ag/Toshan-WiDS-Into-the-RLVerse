{
 "cells": [
  {
   "cell_type": "code",
   "execution_count": 20,
   "metadata": {},
   "outputs": [],
   "source": [
    "import numpy as np"
   ]
  },
  {
   "cell_type": "code",
   "execution_count": 21,
   "metadata": {},
   "outputs": [],
   "source": [
    "# I wrote the code for parsing the file by myself\n",
    "# The code for value_iteration() has been referred from Page 94 of Grokking RL"
   ]
  },
  {
   "cell_type": "code",
   "execution_count": 22,
   "metadata": {},
   "outputs": [],
   "source": [
    "address1 = 'mdp-10-5.txt'\n",
    "address2 = 'mdp-2-2.txt'\n",
    "\n",
    "file_address = address1"
   ]
  },
  {
   "cell_type": "code",
   "execution_count": 23,
   "metadata": {},
   "outputs": [
    {
     "name": "stdout",
     "output_type": "stream",
     "text": [
      "10 5 0.8\n"
     ]
    }
   ],
   "source": [
    "f = open(file_address, 'r')\n",
    "lines = f.readlines()\n",
    "states = 0\n",
    "actions = 0\n",
    "gamma = 0\n",
    "P = {}\n",
    "\n",
    "for i in lines:\n",
    "    if 'states' in i:\n",
    "        states = int(i.split(' ')[-1])\n",
    "    elif 'actions' in i:\n",
    "        actions = int(i.split(' ')[-1])\n",
    "    elif 'gamma' in i:\n",
    "        gamma = float(i.split(' ')[-1])\n",
    "    else:\n",
    "        l = i.split(' ')\n",
    "        initial_state = int(l[1])\n",
    "        action_taken = int(l[2])\n",
    "        final_state = int(l[3])\n",
    "        reward = float(l[4])\n",
    "        trans_prob = float(l[5])\n",
    "        t = (trans_prob, final_state, reward, False)\n",
    "\n",
    "        if initial_state not in P:\n",
    "            P[initial_state] = {}\n",
    "\n",
    "        if action_taken not in P[initial_state]:\n",
    "            P[initial_state][action_taken] = []\n",
    "\n",
    "        P[initial_state][action_taken].append(t)\n",
    "\n",
    "f.close()\n",
    "\n",
    "\n",
    "print(states,actions,gamma)\n",
    "\n",
    "#print(P)\n",
    "#P is not prited because the output is too lengthy"
   ]
  },
  {
   "cell_type": "code",
   "execution_count": 24,
   "metadata": {},
   "outputs": [
    {
     "name": "stdout",
     "output_type": "stream",
     "text": [
      "2.234958 3\n",
      "2.373612 3\n",
      "2.604046 3\n",
      "2.647784 1\n",
      "2.522231 4\n",
      "2.375252 0\n",
      "2.684806 2\n",
      "2.688310 0\n",
      "2.640809 3\n",
      "2.572427 1\n"
     ]
    }
   ],
   "source": [
    "def value_iteration(P, gamma, theta):\n",
    "    V = np.zeros(len(P), dtype=np.float64)\n",
    "\n",
    "    while True:\n",
    "        Q = np.zeros((len(P), len(P[0])), dtype=np.float64)\n",
    "\n",
    "        for s in range(len(P)):\n",
    "            for a in range(len(P[s])):\n",
    "                for prob, next_state, reward, done in P[s][a]:\n",
    "                    Q[s][a] += prob * (reward + gamma * V[next_state] * (not done))\n",
    "                    \n",
    "        if np.max(np.abs(V - np.max(Q, axis=1))) < theta:\n",
    "            break\n",
    "\n",
    "        V = np.max(Q, axis=1)\n",
    "    \n",
    "\n",
    "    pi = lambda s: {s:a for s, a in enumerate(np.argmax(Q, axis=1))}[s]\n",
    "    \n",
    "    return V, pi\n",
    "\n",
    "V, pi = value_iteration(P,gamma,1e-10)\n",
    "\n",
    "\n",
    "#Here, I am printing the value function of every state followed by the optimal action for that state\n",
    "for i in range(len(V)):\n",
    "    print(f\"{V[i]:.6f} {pi(i)}\")"
   ]
  },
  {
   "cell_type": "code",
   "execution_count": 25,
   "metadata": {},
   "outputs": [],
   "source": [
    "# Writing the output into output.txt\n",
    "\n",
    "f=open('output.txt','w')\n",
    "for i in range(len(V)):\n",
    "    s = f\"{V[i]:.6f} {pi(i)}\"\n",
    "    f.write(s)\n",
    "    f.write(\"\\n\")\n",
    "f.close()"
   ]
  }
 ],
 "metadata": {
  "kernelspec": {
   "display_name": "Python 3",
   "language": "python",
   "name": "python3"
  },
  "language_info": {
   "codemirror_mode": {
    "name": "ipython",
    "version": 3
   },
   "file_extension": ".py",
   "mimetype": "text/x-python",
   "name": "python",
   "nbconvert_exporter": "python",
   "pygments_lexer": "ipython3",
   "version": "3.8.3"
  }
 },
 "nbformat": 4,
 "nbformat_minor": 2
}
